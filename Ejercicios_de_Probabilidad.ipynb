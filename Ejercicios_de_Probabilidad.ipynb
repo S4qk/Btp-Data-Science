{
  "nbformat": 4,
  "nbformat_minor": 0,
  "metadata": {
    "colab": {
      "provenance": [],
      "include_colab_link": true
    },
    "kernelspec": {
      "name": "python3",
      "display_name": "Python 3"
    },
    "language_info": {
      "name": "python"
    }
  },
  "cells": [
    {
      "cell_type": "markdown",
      "metadata": {
        "id": "view-in-github",
        "colab_type": "text"
      },
      "source": [
        "<a href=\"https://colab.research.google.com/github/S4qk/Btp-Data-Science/blob/main/Ejercicios_de_Probabilidad.ipynb\" target=\"_parent\"><img src=\"https://colab.research.google.com/assets/colab-badge.svg\" alt=\"Open In Colab\"/></a>"
      ]
    },
    {
      "cell_type": "markdown",
      "source": [
        "Ejercicio 1\n",
        "\n",
        "Dos dados se lanzan una vez y se observa el total obtenido. Usa una simulación para encontrar la probabilidad estimada de que la puntuación sea mayor a 7 o un número par. Una simulación es una repetición del mismo experimento multiples veces para observar su comportamiento:\n",
        "\n",
        "- Ejecuta el experimento 1000 veces (lanza 2 dados 1000 veces, y suma el número de ambos dados).\n",
        "\n",
        "- Lleva una cuenta de los números y las veces que la suma fue mayor a 7 o un número par.\n",
        "\n",
        "- Divide el número del paso 2 entre el número de iteraciones(1000)."
      ],
      "metadata": {
        "id": "dIlos2a2d8wS"
      }
    },
    {
      "cell_type": "code",
      "execution_count": null,
      "metadata": {
        "id": "dWV9mwJcd6yZ",
        "outputId": "794c0736-df50-4027-d877-c424aa65af4e",
        "colab": {
          "base_uri": "https://localhost:8080/"
        }
      },
      "outputs": [
        {
          "output_type": "stream",
          "name": "stdout",
          "text": [
            "The probability of being 7 or an even number is 66.7%\n"
          ]
        }
      ],
      "source": [
        "# Angel\n",
        "import numpy as np\n",
        "\n",
        "# Monte Carlo: samples with uniform distribution in [1,7)\n",
        "n = 1000\n",
        "A = np.random.randint(1,7,size=n)\n",
        "B = np.random.randint(1,7,size=n)\n",
        "\n",
        "# Bigger than 7 or even number\n",
        "sum = A + B\n",
        "mask = (sum > 7) | (sum % 2 == 0)\n",
        "print(f\"The probability of being 7 or an even number is {(np.sum(mask) / n) * 100}%\")"
      ]
    },
    {
      "cell_type": "code",
      "source": [
        "# Chris\n",
        "import random\n",
        "\n",
        "cont = 0\n",
        "\n",
        "for i in range(1000):\n",
        "    Dado_1 = random.randint(1,6)\n",
        "    Dado_2 = random.randint(1,6)\n",
        "    suma = Dado_1 + Dado_2\n",
        "    if suma > 7 or suma % 2 == 0:\n",
        "        cont = cont + 1\n",
        "probabilidad = cont/1000\n",
        "\n",
        "print(f\"El numero de veces que se cumplio al menos una de las condiciones fue:\\n {cont}\\nEs decir la probabilidad es de:\\n{probabilidad}\")"
      ],
      "metadata": {
        "id": "gJYyn8SbiWsg",
        "colab": {
          "base_uri": "https://localhost:8080/"
        },
        "outputId": "94209f44-ec8a-43c7-b3b6-ce9ab6165895"
      },
      "execution_count": null,
      "outputs": [
        {
          "output_type": "stream",
          "name": "stdout",
          "text": [
            "El numero de veces que se cumplio al menos una de las condiciones fue:\n",
            " 673\n",
            "Es decir la probabilidad es de:\n",
            "0.673\n"
          ]
        }
      ]
    },
    {
      "cell_type": "markdown",
      "source": [
        "Ejercicio 2\n",
        "\n",
        "Una caja contiene 10 bolas blancas, 20 bolas rojas y 30 bolas verdes. Si tomamos 5 bolas de la caja reemplazándolas (tomando una bola, anotando el color y luego regresandola a la caja). Queremos saber la probabilidad de:\n",
        "\n",
        "- Tomar 3 blancas y 2 rojas.\n",
        "- Todas todas del mismo color.\n",
        "\n",
        "Ejecuta el experimento 1000 veces y calcula las probabilidades que mencionadas."
      ],
      "metadata": {
        "id": "E8a7kU-feEaG"
      }
    },
    {
      "cell_type": "code",
      "source": [
        "#Angel\n",
        "ball_box = {}\n",
        "\n",
        "# Crea la cajas con las bolas\n",
        "for i in range(60):\n",
        "    if i < 10:\n",
        "        ball_box[i] = \"White\"\n",
        "    elif (i > 9) and (i < 30):\n",
        "        ball_box[i] = \"Red\"\n",
        "    else:\n",
        "        ball_box[i] = \"Green\"\n",
        "\n",
        "# Eleccion 5 bolas en n experimentos\n",
        "n = 1000\n",
        "take = np.random.randint(60,size=(n,5))\n",
        "\n",
        "# 2DArray con los colores de las extracciones\n",
        "balls_taken = np.empty((n, 5), dtype=object)\n",
        "for i in range(n):\n",
        "  for j in range(5):\n",
        "    balls_taken[i,j] = ball_box[take[i,j]]\n",
        "\n",
        "# Probabilidad 3 blancas y 2 rojas\n",
        "count = 0\n",
        "for i in range(n):\n",
        "  if np.sum(balls_taken[i] == \"White\") == 3 and np.sum(balls_taken[i] == \"Red\") == 2:\n",
        "    count = count + 1\n",
        "print(f\"La probabilidad de tomar 3 blancas y 2 rojas es: {(count/n) * 100}\")\n",
        "\n",
        "# Probabilidad Todas del mismo color\n",
        "count = 0\n",
        "for i in range(n):\n",
        "    if np.all(balls_taken[i] == balls_taken[i][0]):\n",
        "        count += 1\n",
        "print(f\"La probabilidad de tomar todas del mismo color es: {(count/n) * 100}\")"
      ],
      "metadata": {
        "id": "f48P3kaueI2i",
        "colab": {
          "base_uri": "https://localhost:8080/"
        },
        "outputId": "c6df1e1d-96ff-418c-c1b9-9bf60e1eace7"
      },
      "execution_count": null,
      "outputs": [
        {
          "output_type": "stream",
          "name": "stdout",
          "text": [
            "La probabilidad de tomar 3 blancas y 2 rojas es: 0.4\n",
            "La probabilidad de tomar todas del mismo color es: 2.8000000000000003\n"
          ]
        }
      ]
    },
    {
      "cell_type": "code",
      "source": [
        "# Crea la cajas con las bolas\n",
        "for i in range(60):\n",
        "    if i < 10:\n",
        "        ball_box[i] = \"White\"\n",
        "    elif (i > 9) and (i < 30):\n",
        "        ball_box[i] = \"Red\"\n",
        "    else:\n",
        "        ball_box[i] = \"Green\"\n",
        "\n",
        "# Elección de 5 bolas y 1000 experimentos\n",
        "n = 1000\n",
        "take = np.random.randint(60,size=(n,5))\n",
        "\n",
        "# 2DArray con los colores de las extracciones\n",
        "balls_taken = np.empty((n, 5), dtype=object)\n",
        "for i in range(n):\n",
        "  for j in range(5):\n",
        "    balls_taken[i,j] = ball_box[take[i,j]]\n",
        "\n",
        "# Probabilidad 3 blancas y 2 rojas\n",
        "count = 0\n",
        "for i in range(n):\n",
        "  if np.sum(balls_taken[i] == \"White\") == 3 and np.sum(balls_taken[i] == \"Red\") == 2:\n",
        "    count += 1\n",
        "print(f\"The probability of taking 3 white balls and 2 red balls is {(count / n) * 100}%\")\n",
        "\n",
        "# Probabilidad del mismo color\n",
        "count = 0\n",
        "for i in range(n):\n",
        "  if np.sum(balls_taken[i] == \"White\") == 5 or np.sum(balls_taken[i] == \"Red\") == 5 or np.sum(balls_taken[i] == \"Green\") ==5:\n",
        "    count += 1\n",
        "print(f\"The probability of taking all the same color is {(count / n) * 100}%\")"
      ],
      "metadata": {
        "id": "BrzyxkLuA-_d",
        "outputId": "3e2dde71-ccd3-429c-eba0-333ac486f8e4",
        "colab": {
          "base_uri": "https://localhost:8080/",
          "height": 211
        },
        "collapsed": true
      },
      "execution_count": null,
      "outputs": [
        {
          "output_type": "error",
          "ename": "NameError",
          "evalue": "name 'ball_box' is not defined",
          "traceback": [
            "\u001b[0;31m---------------------------------------------------------------------------\u001b[0m",
            "\u001b[0;31mNameError\u001b[0m                                 Traceback (most recent call last)",
            "\u001b[0;32m/tmp/ipython-input-293140946.py\u001b[0m in \u001b[0;36m<cell line: 0>\u001b[0;34m()\u001b[0m\n\u001b[1;32m      2\u001b[0m \u001b[0;32mfor\u001b[0m \u001b[0mi\u001b[0m \u001b[0;32min\u001b[0m \u001b[0mrange\u001b[0m\u001b[0;34m(\u001b[0m\u001b[0;36m60\u001b[0m\u001b[0;34m)\u001b[0m\u001b[0;34m:\u001b[0m\u001b[0;34m\u001b[0m\u001b[0;34m\u001b[0m\u001b[0m\n\u001b[1;32m      3\u001b[0m     \u001b[0;32mif\u001b[0m \u001b[0mi\u001b[0m \u001b[0;34m<\u001b[0m \u001b[0;36m10\u001b[0m\u001b[0;34m:\u001b[0m\u001b[0;34m\u001b[0m\u001b[0;34m\u001b[0m\u001b[0m\n\u001b[0;32m----> 4\u001b[0;31m         \u001b[0mball_box\u001b[0m\u001b[0;34m[\u001b[0m\u001b[0mi\u001b[0m\u001b[0;34m]\u001b[0m \u001b[0;34m=\u001b[0m \u001b[0;34m\"White\"\u001b[0m\u001b[0;34m\u001b[0m\u001b[0;34m\u001b[0m\u001b[0m\n\u001b[0m\u001b[1;32m      5\u001b[0m     \u001b[0;32melif\u001b[0m \u001b[0;34m(\u001b[0m\u001b[0mi\u001b[0m \u001b[0;34m>\u001b[0m \u001b[0;36m9\u001b[0m\u001b[0;34m)\u001b[0m \u001b[0;32mand\u001b[0m \u001b[0;34m(\u001b[0m\u001b[0mi\u001b[0m \u001b[0;34m<\u001b[0m \u001b[0;36m30\u001b[0m\u001b[0;34m)\u001b[0m\u001b[0;34m:\u001b[0m\u001b[0;34m\u001b[0m\u001b[0;34m\u001b[0m\u001b[0m\n\u001b[1;32m      6\u001b[0m         \u001b[0mball_box\u001b[0m\u001b[0;34m[\u001b[0m\u001b[0mi\u001b[0m\u001b[0;34m]\u001b[0m \u001b[0;34m=\u001b[0m \u001b[0;34m\"Red\"\u001b[0m\u001b[0;34m\u001b[0m\u001b[0;34m\u001b[0m\u001b[0m\n",
            "\u001b[0;31mNameError\u001b[0m: name 'ball_box' is not defined"
          ]
        }
      ]
    },
    {
      "cell_type": "code",
      "source": [
        "#Chris\n",
        "\n",
        "import random\n",
        "ball_box = {}\n",
        "\n",
        "# Crea la cajas con las bolas\n",
        "for i in range(60):\n",
        "    if i < 10:\n",
        "        ball_box[i] = \"White\"\n",
        "    elif (i > 9) and (i < 30):\n",
        "        ball_box[i] = \"Red\"\n",
        "    else:\n",
        "        ball_box[i] = \"Green\"\n",
        "\n",
        "print(ball_box)\n",
        "\n",
        "cont_3b_2r = 0\n",
        "contador_mismo_color = 0\n",
        "\n",
        "for i in range(1000):                   #Simulacion\n",
        "    extraccion = []                     # Se genera un arreglo para cada evento de la simulacion\n",
        "    for j in range(5):\n",
        "        ball = random.choice(list(ball_box.values()))  # se genera una variable que hace referencia a la bola extraida\n",
        "        extraccion.append(ball)         #Ahora se ingresa la bola en el arreglo de extraccion generado\n",
        "\n",
        "    white = extraccion.count(\"White\")\n",
        "    red = extraccion.count(\"Red\")       #Determinamos el numero de bolas obtenidas or extraccion\n",
        "    green = extraccion.count(\"Green\")\n",
        "\n",
        "    if white == 3 and red == 2:\n",
        "        cont_3b_2r += 1                 #Generamos una variable que contabiliza el posible caso en las extacciones\n",
        "\n",
        "    if white == 5 or red == 5 or green == 5:\n",
        "        contador_mismo_color += 1\n",
        "\n",
        "prob_3w_2r = cont_3b_2r / 1000\n",
        "prob_SameColor = contador_mismo_color / 1000      #Obtenemos las probabilidades\n",
        "\n",
        "print(f\"Probabilidad de 3 white y 2 rojas:\\n {prob_3w_2r}\")\n",
        "print(f\"Probabilidad de todas del mismo color:\\n {prob_SameColor}\")"
      ],
      "metadata": {
        "id": "PWi_SnD_icoL",
        "colab": {
          "base_uri": "https://localhost:8080/"
        },
        "outputId": "ae1299bb-25b5-41bd-e8d5-3f9fb2380c78",
        "collapsed": true
      },
      "execution_count": null,
      "outputs": [
        {
          "output_type": "stream",
          "name": "stdout",
          "text": [
            "{0: 'White', 1: 'White', 2: 'White', 3: 'White', 4: 'White', 5: 'White', 6: 'White', 7: 'White', 8: 'White', 9: 'White', 10: 'Red', 11: 'Red', 12: 'Red', 13: 'Red', 14: 'Red', 15: 'Red', 16: 'Red', 17: 'Red', 18: 'Red', 19: 'Red', 20: 'Red', 21: 'Red', 22: 'Red', 23: 'Red', 24: 'Red', 25: 'Red', 26: 'Red', 27: 'Red', 28: 'Red', 29: 'Red', 30: 'Green', 31: 'Green', 32: 'Green', 33: 'Green', 34: 'Green', 35: 'Green', 36: 'Green', 37: 'Green', 38: 'Green', 39: 'Green', 40: 'Green', 41: 'Green', 42: 'Green', 43: 'Green', 44: 'Green', 45: 'Green', 46: 'Green', 47: 'Green', 48: 'Green', 49: 'Green', 50: 'Green', 51: 'Green', 52: 'Green', 53: 'Green', 54: 'Green', 55: 'Green', 56: 'Green', 57: 'Green', 58: 'Green', 59: 'Green'}\n",
            "Probabilidad de 3 white y 2 rojas:\n",
            " 0.005\n",
            "Probabilidad de todas del mismo color:\n",
            " 0.027\n"
          ]
        }
      ]
    },
    {
      "cell_type": "code",
      "source": [
        "#Chris 2.0/ AHORA ES PERSONAL\n",
        "\n",
        "import numpy as np\n",
        "import pandas as pd\n",
        "\n",
        "num_experimentos = 1000\n",
        "num_extracciones = 5\n",
        "colores = ['blanca', 'roja', 'verde']\n",
        "probabilidades = [10/60, 20/60, 30/60]  # Probabilidades de cada color\n",
        "\n",
        "experimentos = np.random.choice(colores, size=(num_experimentos, num_extracciones), replace = True, p=probabilidades)  #Simulacion de Carlo\n",
        "\n",
        "df = pd.DataFrame(experimentos, columns=[f'Extracción_{i+1}' for i in range(num_extracciones)])\n",
        "\n",
        "# Contar ocurrencias de cada color por experimento\n",
        "df['Blancas'] = (df == 'blanca').sum(axis=1)\n",
        "df['Rojas'] = (df == 'roja').sum(axis=1)\n",
        "df['Verdes'] = (df == 'verde').sum(axis=1)\n",
        "\n",
        "# Calcular condiciones\n",
        "df['3b_2r'] = (df['Blancas'] == 3) & (df['Rojas'] == 2)\n",
        "df['Mismo_color'] = (df['Blancas'] == 5) | (df['Rojas'] == 5) | (df['Verdes'] == 5)\n",
        "\n",
        "# Calcular probabilidades\n",
        "prob_3b_2r = df['3b_2r'].mean()\n",
        "prob_mismo_color = df['Mismo_color'].mean()\n",
        "\n",
        "# Resultados\n",
        "print(f\"Probabilidad de 3 blancas y 2 rojas: {prob_3b_2r:.3f}\")\n",
        "print(f\"Probabilidad de todas del mismo color: {prob_mismo_color:.3f}\")\n",
        "\n",
        "# Mostrar primeras filas del DataFrame para inspección\n",
        "print(\"\\n El Data Frame queda como:\")\n",
        "print(df)"
      ],
      "metadata": {
        "colab": {
          "base_uri": "https://localhost:8080/"
        },
        "id": "DA-v4Ph0riyD",
        "outputId": "7c36ee2b-77d6-4b57-a015-27b2f05eeb1c",
        "collapsed": true
      },
      "execution_count": 13,
      "outputs": [
        {
          "output_type": "stream",
          "name": "stdout",
          "text": [
            "Probabilidad de 3 blancas y 2 rojas: 0.005\n",
            "Probabilidad de todas del mismo color: 0.037\n",
            "\n",
            " El Data Frame queda como:\n",
            "    Extracción_1 Extracción_2 Extracción_3 Extracción_4 Extracción_5  Blancas  \\\n",
            "0          verde       blanca        verde       blanca        verde        2   \n",
            "1          verde       blanca        verde        verde        verde        1   \n",
            "2          verde        verde       blanca        verde       blanca        2   \n",
            "3          verde         roja         roja        verde        verde        0   \n",
            "4          verde         roja       blanca        verde        verde        1   \n",
            "..           ...          ...          ...          ...          ...      ...   \n",
            "995         roja        verde        verde        verde         roja        0   \n",
            "996        verde        verde        verde        verde       blanca        1   \n",
            "997        verde         roja         roja        verde        verde        0   \n",
            "998        verde        verde        verde         roja         roja        0   \n",
            "999         roja         roja         roja        verde       blanca        1   \n",
            "\n",
            "     Rojas  Verdes  3b_2r  Mismo_color  \n",
            "0        0       3  False        False  \n",
            "1        0       4  False        False  \n",
            "2        0       3  False        False  \n",
            "3        2       3  False        False  \n",
            "4        1       3  False        False  \n",
            "..     ...     ...    ...          ...  \n",
            "995      2       3  False        False  \n",
            "996      0       4  False        False  \n",
            "997      2       3  False        False  \n",
            "998      2       3  False        False  \n",
            "999      3       1  False        False  \n",
            "\n",
            "[1000 rows x 10 columns]\n"
          ]
        }
      ]
    },
    {
      "cell_type": "code",
      "source": [
        "#probabilities\n",
        "colorsP = ['white'] * 10 + ['red'] * 20 + ['green'] * 30\n",
        "\n",
        "def simulate_draw():\n",
        "  return [random.choice(colorsP) for _ in range(5)]\n",
        "\n",
        "def classifty(draw):\n",
        "  w = draw.count('white') # count() cuenta cuántas veces aparece white en la lista draw\n",
        "  r = draw.count('red')\n",
        "  g = draw.count('green')\n",
        "\n",
        "  if w == 3 and r == 2:\n",
        "    return 2\n",
        "  elif w == 5 or r == 5 or g == 5 :\n",
        "    return 1\n",
        "  else:\n",
        "    return 0\n",
        "\n",
        "n=1000\n",
        "case1 = 0 # 3b y 2r\n",
        "case2 = 0 # 5b iguales\n",
        "\n",
        "for _ in range(n):\n",
        "  result = classifty(simulate_draw())\n",
        "  if result == 2:\n",
        "    case1 +=1\n",
        "  if result == 1:\n",
        "    case2 +=1\n",
        "\n",
        "print(f'Probabilidad de 3 bolas blancas y 2 bolas rojas: {round(case1/n * 100,3)}%')\n",
        "print(f'Probabilidad de 5 bolas del mismo color: {round(case2/n * 100,3)}%')"
      ],
      "metadata": {
        "colab": {
          "base_uri": "https://localhost:8080/"
        },
        "id": "-uULXvYr2RYq",
        "outputId": "101571c6-f4e2-489c-d2dc-5d76854951b0"
      },
      "execution_count": null,
      "outputs": [
        {
          "output_type": "stream",
          "name": "stdout",
          "text": [
            "Probabilidad de 3 bolas blancas y 2 bolas rojas: 0.3%\n",
            "Probabilidad de 5 bolas del mismo color: 3.0%\n"
          ]
        }
      ]
    }
  ]
}
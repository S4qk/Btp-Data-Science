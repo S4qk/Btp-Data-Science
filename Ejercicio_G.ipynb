{
  "nbformat": 4,
  "nbformat_minor": 0,
  "metadata": {
    "colab": {
      "provenance": [],
      "authorship_tag": "ABX9TyNQS7sUE9m4vTv6DQsmyzhl",
      "include_colab_link": true
    },
    "kernelspec": {
      "name": "python3",
      "display_name": "Python 3"
    },
    "language_info": {
      "name": "python"
    }
  },
  "cells": [
    {
      "cell_type": "markdown",
      "metadata": {
        "id": "view-in-github",
        "colab_type": "text"
      },
      "source": [
        "<a href=\"https://colab.research.google.com/github/S4qk/Btp-Data-Science/blob/Chris/Ejercicio_G.ipynb\" target=\"_parent\"><img src=\"https://colab.research.google.com/assets/colab-badge.svg\" alt=\"Open In Colab\"/></a>"
      ]
    },
    {
      "cell_type": "code",
      "execution_count": 26,
      "metadata": {
        "id": "G5sZvg37LUnj",
        "outputId": "8b75f079-2696-48f1-9226-ebd0d9e51f54",
        "colab": {
          "base_uri": "https://localhost:8080/",
          "height": 106
        }
      },
      "outputs": [
        {
          "output_type": "error",
          "ename": "IndentationError",
          "evalue": "unexpected indent (ipython-input-1157123802.py, line 6)",
          "traceback": [
            "\u001b[0;36m  File \u001b[0;32m\"/tmp/ipython-input-1157123802.py\"\u001b[0;36m, line \u001b[0;32m6\u001b[0m\n\u001b[0;31m    '''print (\"La media en X:\", np.mean(arreglo[:,0]))\u001b[0m\n\u001b[0m    ^\u001b[0m\n\u001b[0;31mIndentationError\u001b[0m\u001b[0;31m:\u001b[0m unexpected indent\n"
          ]
        }
      ],
      "source": [
        "import numpy as np\n",
        "import pandas as pd\n",
        "df = pd.read_csv('/content/0. Datos.xlsx - G.csv')\n",
        "arreglo = np.array(df)\n",
        "\n",
        " '''print (\"La media en X:\", np.mean(arreglo[:,0]))\n",
        " print (\"La media en Y:\", np.mean(arreglo[:,1]))\n",
        " print (\"La desviacion estandar en X:\", np.std(arreglo[:,0]))\n",
        " print (\"La desviacion estandar en Y:\", np.std(arreglo[:,1]))\n",
        "\n"
      ]
    },
    {
      "cell_type": "code",
      "source": [],
      "metadata": {
        "id": "H-BpSolKx_l4"
      },
      "execution_count": null,
      "outputs": []
    }
  ]
}